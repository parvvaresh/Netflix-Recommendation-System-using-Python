{
  "nbformat": 4,
  "nbformat_minor": 0,
  "metadata": {
    "colab": {
      "provenance": [],
      "authorship_tag": "ABX9TyNf0T3xVW/OHjcgK5lAVsP4",
      "include_colab_link": true
    },
    "kernelspec": {
      "name": "python3",
      "display_name": "Python 3"
    },
    "language_info": {
      "name": "python"
    }
  },
  "cells": [
    {
      "cell_type": "markdown",
      "metadata": {
        "id": "view-in-github",
        "colab_type": "text"
      },
      "source": [
        "<a href=\"https://colab.research.google.com/github/parvvaresh/Netflix-Recommendation-System-using-Python/blob/main/Cosine_Similarity_.ipynb\" target=\"_parent\"><img src=\"https://colab.research.google.com/assets/colab-badge.svg\" alt=\"Open In Colab\"/></a>"
      ]
    },
    {
      "cell_type": "markdown",
      "source": [
        "\n",
        "**Cosine Similarity in Machine Learning**\n",
        "\n",
        "\n",
        "---\n",
        "\n",
        "\n",
        "Cosine similarity is used to find similarities between the two documents. It does this by calculating the similarity score between the vectors, which is done by finding the angles between them. The range of similarities is between 0 and 1. If the value of the similarity score between two vectors is 1, it means that there is a greater similarity between the two vectors.\n",
        "\n",
        "On the other hand, if the value of the similarity score between two vectors is 0, it means that there is no similarity between the two vectors. When the similarity score is one, the angle between two vectors is 0 and when the similarity score is 0, the angle between two vectors is 90 degrees.\n",
        "\n",
        "\n",
        "In machine learning applications, this technique is mainly used in recommendation systems to find the similarities between the description of two products so that we can recommend the most similar product to the user to provide a better user experience. In this section below, I will walk you through how to calculate cosine similarity using Python.\n",
        "\n"
      ],
      "metadata": {
        "id": "31BjzxTGAlPK"
      }
    },
    {
      "cell_type": "code",
      "source": [
        "import numpy as np\n",
        "import pandas as pd\n",
        "from sklearn.metrics.pairwise import cosine_similarity"
      ],
      "metadata": {
        "id": "kE0YhILJAyHe"
      },
      "execution_count": 1,
      "outputs": []
    },
    {
      "cell_type": "code",
      "source": [
        "a = np.array([10, 5, 15, 7, 5])\n",
        "b = np.array([5, 10, 17, 5, 3])"
      ],
      "metadata": {
        "id": "Gg3yqqukA9Fs"
      },
      "execution_count": 2,
      "outputs": []
    },
    {
      "cell_type": "code",
      "source": [
        "result = cosine_similarity(a.reshape(1, -1), b.reshape(1, -1))\n",
        "print(result)"
      ],
      "metadata": {
        "colab": {
          "base_uri": "https://localhost:8080/"
        },
        "id": "79zCEtqEBRa0",
        "outputId": "9d281144-6725-4432-d4f1-900372d50d0f"
      },
      "execution_count": 6,
      "outputs": [
        {
          "output_type": "stream",
          "name": "stdout",
          "text": [
            "[[0.92925111]]\n"
          ]
        }
      ]
    }
  ]
}